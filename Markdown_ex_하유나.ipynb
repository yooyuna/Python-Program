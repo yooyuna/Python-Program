{
 "cells": [
  {
   "cell_type": "markdown",
   "id": "bd1965ac-a797-4b23-98de-01b37d3b9957",
   "metadata": {},
   "source": [
    "# Markdown 언어 실습\n",
    "## Header\n",
    "1. Header 작성 (Markdown언어)"
   ]
  },
  {
   "cell_type": "markdown",
   "id": "8d474f95-5068-4356-97de-a8b7701925a2",
   "metadata": {},
   "source": [
    "<a id=\"header\">"
   ]
  },
  {
   "cell_type": "markdown",
   "id": "847c285b-cd29-409a-b036-628565ed11cf",
   "metadata": {},
   "source": [
    "# Header\n",
    "## Header\n",
    "### Header\n",
    "#### Header\n",
    "##### Header\n",
    "###### Header"
   ]
  },
  {
   "cell_type": "markdown",
   "id": "0d5d4935-0413-4b57-9714-0aec9a49d938",
   "metadata": {},
   "source": [
    "# Header\n",
    "## Header\n",
    "### Header\n",
    "#### Header\n",
    "##### Header\n",
    "###### Header"
   ]
  },
  {
   "cell_type": "markdown",
   "id": "f8d21cac-0a33-448a-b3d8-dccb87e23026",
   "metadata": {},
   "source": [
    "2. Header 작성 (HTML 언어)"
   ]
  },
  {
   "cell_type": "markdown",
   "id": "b09ab3f9-2ba4-47cf-890d-c4f092ef1e89",
   "metadata": {},
   "source": [
    "<h1>Header</h1>\n",
    "<h2>Header</h2>\n",
    "<h3>Header</h3>\n",
    "<h4>Header</h4>\n",
    "<h5>Header</h5>\n",
    "<h6>Header</h6>"
   ]
  },
  {
   "cell_type": "markdown",
   "id": "12c10731-7f1e-467f-a193-4f1df09c1fc2",
   "metadata": {},
   "source": [
    "<h1>Header</h1>\n",
    "<h2>Header</h2>\n",
    "<h3>Header</h3>\n",
    "<h4>Header</h4>\n",
    "<h5>Header</h5>\n",
    "<h6>Header</h6>"
   ]
  },
  {
   "cell_type": "markdown",
   "id": "01d66784-9e84-41bd-8ff0-4f22c07f7f42",
   "metadata": {},
   "source": [
    "---"
   ]
  },
  {
   "cell_type": "markdown",
   "id": "2142577a-e720-4bc6-b8a6-a8b5e081b8bf",
   "metadata": {},
   "source": [
    "<a id=\"bold_text\"></a>"
   ]
  },
  {
   "cell_type": "markdown",
   "id": "677305d6-7234-4ee7-bd66-e96bfed67f41",
   "metadata": {},
   "source": [
    "## Bold Text\n",
    "1. Bold Text 작성 (Markdown 언어)"
   ]
  },
  {
   "cell_type": "markdown",
   "id": "6d602f45-f1db-40fa-aaff-a6ca71e67c1b",
   "metadata": {},
   "source": [
    "이 글은 **굵게** 작성된 내용입니다.  \n",
    "__이 글은 굵게 작성된 내용입니다__다"
   ]
  },
  {
   "cell_type": "markdown",
   "id": "e8d46b28-1881-484e-9fcb-d9f3b137345b",
   "metadata": {},
   "source": [
    "이 글은 **굵게** 작성된 내용입니다.  \n",
    "__이 글은 굵게 작성된 내용입니다__"
   ]
  },
  {
   "cell_type": "markdown",
   "id": "1c44aab2-4a49-4bcd-9385-cfd0a68b53ca",
   "metadata": {},
   "source": [
    "2. Bold Text 작성 (HTML언어)"
   ]
  },
  {
   "cell_type": "markdown",
   "id": "3922594e-b081-459e-93ee-d9dbb6760831",
   "metadata": {},
   "source": [
    "이 글은 <b>굵게</b> 작성된 내용입니다.</br>\n",
    "<strong> 이 글은 굵게 작성된 내용입니다.</strong>"
   ]
  },
  {
   "cell_type": "markdown",
   "id": "16f75f81-de87-4df4-bd54-7642d22fc1cb",
   "metadata": {},
   "source": [
    "이 글은 <b>굵게</b> 작성된 내용입니다.</br>\n",
    "<strong> 이 글은 굵게 작성된 내용입니다.</strong>"
   ]
  },
  {
   "cell_type": "markdown",
   "id": "13176995-ff0c-4c4e-8999-5300e8c2def2",
   "metadata": {},
   "source": [
    "---"
   ]
  },
  {
   "cell_type": "markdown",
   "id": "2259501e-3d63-469e-ba1a-1db26eaf4d00",
   "metadata": {},
   "source": [
    "# Italic Text\n",
    "1. Italic Text 작성(Markdown 언어)"
   ]
  },
  {
   "cell_type": "markdown",
   "id": "9a3ae1f6-4784-4551-a54e-632fd305ac50",
   "metadata": {},
   "source": [
    "이 글은 *기울기*가 적용된 내용입니다.  \n",
    "_이 글은 기울기가 적용된 내용입니다._다"
   ]
  },
  {
   "cell_type": "markdown",
   "id": "edb9a333-1568-48c5-a44a-53b0bd3c089d",
   "metadata": {},
   "source": [
    "이 글은 *기울기*가 적용된 내용입니다.  \n",
    "_이 글은 기울기가 적용된 내용입니다._"
   ]
  },
  {
   "cell_type": "markdown",
   "id": "62c8c21d-568e-4589-9439-06295e4e872e",
   "metadata": {},
   "source": [
    "2. ltalic Text 작성(HTML 언어)"
   ]
  },
  {
   "cell_type": "markdown",
   "id": "809ac49c-317a-46ea-9bb2-190e7a9d3a35",
   "metadata": {},
   "source": [
    "이 글은 <em>기울기</em>가 적용된 내용입니다<br>\n",
    "<i>이 글은 기울기가 적용된 내용입니다</i>"
   ]
  },
  {
   "cell_type": "markdown",
   "id": "6adec8bd-f54d-4a20-a1e5-41b3e8cdb4f1",
   "metadata": {},
   "source": [
    "이 글은 <em>기울기</em>가 적용된 내용입니다<br>\n",
    "<i>이 글은 기울기가 적용된 내용입니다</i>"
   ]
  },
  {
   "cell_type": "markdown",
   "id": "a51aa0e3-9d25-4200-8d70-3cfc6d088bf5",
   "metadata": {},
   "source": [
    "---"
   ]
  },
  {
   "cell_type": "markdown",
   "id": "ef2aae2a-bdbc-42d0-8763-3b39b15b73e0",
   "metadata": {},
   "source": [
    "# Bold & Italic Text"
   ]
  },
  {
   "cell_type": "markdown",
   "id": "db4b622e-7203-4075-912a-71f478868fc0",
   "metadata": {},
   "source": [
    "1. Bold & Italic Text 작성 (Markdown 언어)"
   ]
  },
  {
   "cell_type": "markdown",
   "id": "df76d7f8-6169-4de5-92ef-7462d79d408f",
   "metadata": {},
   "source": [
    "이 글은 ***굵고 그리고 기울기***가 동시에 적용된 내용입니다.  \n",
    "___이 글은 굵고 그리고 기울기가 동시에 적용된 내용입니다.___"
   ]
  },
  {
   "cell_type": "markdown",
   "id": "fe7428cd-1a9d-4b59-8278-d6120dacf0ce",
   "metadata": {},
   "source": [
    "이 글은 ***굵고 그리고 기울기***가 동시에 적용된 내용입니다.  \n",
    "___이 글은 굵고 그리고 기울기가 동시에 적용된 내용입니다.___  "
   ]
  },
  {
   "cell_type": "markdown",
   "id": "75a4a4b4-3894-49a2-8a9e-80c8112f3b4b",
   "metadata": {},
   "source": [
    "2. Bold & Italic Text 작성 (HTML 언어)"
   ]
  },
  {
   "cell_type": "markdown",
   "id": "124e7aa4-5c1f-4fde-9139-b49023affcb1",
   "metadata": {},
   "source": [
    "이 글은 <b><i>굵고 그리고 기울기</i></b>가 동시에 적용된 내용입니다.</br>\r",
    "<strong><em>이 글은 굵고 그리고 기울기가 동시에 적용된 내용입니다.</em></strong>"
   ]
  },
  {
   "cell_type": "markdown",
   "id": "53d54db6-a557-4d47-aa45-1319fd116b43",
   "metadata": {},
   "source": [
    "이 글은 <b><i>굵고 그리고 기울기</i></b>가 동시에 적용된 내용입니다.</br>\r",
    "<strong><em>\n",
    "이 글은 굵고 그리고 기울기가 동시에 적용된 내용입니다</em></strong>."
   ]
  },
  {
   "cell_type": "markdown",
   "id": "b8ec9d12-f223-4ab0-88ab-90bbcad01a35",
   "metadata": {},
   "source": [
    "---"
   ]
  },
  {
   "cell_type": "markdown",
   "id": "3ac712eb-e974-464e-8d5e-79f1c72a3ab2",
   "metadata": {},
   "source": [
    "# STRIKETHROUGH Text\n",
    "1. STRIKETHROUGH Text 작성 (Markdown 언어)"
   ]
  },
  {
   "cell_type": "markdown",
   "id": "82d536bd-732d-4441-b536-0eea1ecb0934",
   "metadata": {},
   "source": [
    "~~이 글은 취소된 내용입니다.~~"
   ]
  },
  {
   "cell_type": "markdown",
   "id": "bfcbe24c-4b12-448d-a173-f5e06ffe8f9b",
   "metadata": {},
   "source": [
    "~~이 글은 취소된 내용입니다.~~"
   ]
  },
  {
   "cell_type": "markdown",
   "id": "72869156-6163-4ecf-957e-7efe3cfb519b",
   "metadata": {},
   "source": [
    "2. STRIKETHROUGH Text 작성 (HTML언어)"
   ]
  },
  {
   "cell_type": "markdown",
   "id": "4dfa3ea1-9e54-4a9c-a449-b2d356e135d8",
   "metadata": {},
   "source": [
    "<del>이 글은 취소된 내용입니다.</del>"
   ]
  },
  {
   "cell_type": "markdown",
   "id": "8c8eb218-b4a4-4566-b269-d11881097c6e",
   "metadata": {},
   "source": [
    "<del>이 글은 취소된 내용입니다.</del>"
   ]
  },
  {
   "cell_type": "markdown",
   "id": "21b556b4-32fb-4308-82c0-ec9be36e20f3",
   "metadata": {},
   "source": [
    "---"
   ]
  },
  {
   "cell_type": "markdown",
   "id": "ca7c217b-788c-433b-b52f-f2b10b9ff886",
   "metadata": {},
   "source": [
    "# BACKSLASH ESCAPE\n",
    "- BACKSLASH ESCAPE 작성 (Markdown 언어)\n",
    "  + 마크다운언어를 통해 \"#\"문자를 작성하고자 할 때는, 역슬래쉬(\\#)문자를 활용"
   ]
  },
  {
   "cell_type": "markdown",
   "id": "361671cb-75d5-478f-b5d7-710199ef97b8",
   "metadata": {},
   "source": [
    "\\# Not Header"
   ]
  },
  {
   "cell_type": "markdown",
   "id": "50ba0ad6-28ba-436b-8795-ae920c2536c2",
   "metadata": {},
   "source": [
    "\\# Not Header"
   ]
  },
  {
   "cell_type": "markdown",
   "id": "9fdee19b-0df2-4c24-9bf1-b546f08d581e",
   "metadata": {},
   "source": [
    "\\*\\*이 글은 굵게 작성되지 않은 내용입니다.\\*\\*"
   ]
  },
  {
   "cell_type": "markdown",
   "id": "af0d6b7a-c065-4ca5-8539-d47a44ec5558",
   "metadata": {},
   "source": [
    "\\*\\*이 글은 굵게 작성되지 않은 내용입니다.\\*\\*"
   ]
  },
  {
   "cell_type": "markdown",
   "id": "9e7c110d-a04f-44bb-b51c-8c4138951ac6",
   "metadata": {},
   "source": [
    "---"
   ]
  },
  {
   "cell_type": "markdown",
   "id": "8ca1776e-a552-4a92-b73f-3c5c61c3ff0f",
   "metadata": {},
   "source": [
    "# PARAGRAPHS\n",
    "1. PARAGRAPHS 작성 (Markdown 언어)"
   ]
  },
  {
   "cell_type": "markdown",
   "id": "0ce9afdc-6596-4d2c-9b8e-66963a0eb70e",
   "metadata": {},
   "source": [
    "이 글은 첫 번째 문장입니다.  \n",
    "이 글은 두 번째 문장입니다."
   ]
  },
  {
   "cell_type": "markdown",
   "id": "19dc3324-4f0d-4501-acdd-e1b1f009e4dc",
   "metadata": {},
   "source": [
    "이 글은 첫 번째 문장입니다.  \n",
    "이 글은 두 번째 문장입니다."
   ]
  },
  {
   "cell_type": "markdown",
   "id": "3d310d37-20c6-4dd4-baf9-fed2daf1ac2f",
   "metadata": {},
   "source": [
    "2. PARAGRAPHS 작성 (HTML 언어)"
   ]
  },
  {
   "cell_type": "markdown",
   "id": "50297722-e1ce-4450-85a2-a62710dfe7cf",
   "metadata": {},
   "source": [
    "이 글은 첫 번째 문장입니다. </br>\n",
    "이 글은 두 번째 문장입니다."
   ]
  },
  {
   "cell_type": "markdown",
   "id": "df7a194f-b541-4149-b84f-70d5e0b05f68",
   "metadata": {},
   "source": [
    "이 글은 첫 번째 문장입니다. </br>\n",
    "이 글은 두 번째 문장입니다."
   ]
  },
  {
   "cell_type": "markdown",
   "id": "e7fcf5c7-e5be-4cc4-8ef3-14db1c9de482",
   "metadata": {},
   "source": [
    "<p>이 글은 첫 번째 문장입니다.</p>\n",
    "<p>이 글은 두 번째 문장입니다.</p>"
   ]
  },
  {
   "cell_type": "markdown",
   "id": "a3b6960e-309c-4743-af43-0d04e69dee77",
   "metadata": {},
   "source": [
    "<p>이 글은 첫 번째 문장입니다.</p>\n",
    "<p>이 글은 두 번째 문장입니다.</p>"
   ]
  },
  {
   "cell_type": "markdown",
   "id": "334f4e36-b218-4e9f-b82d-1571d5defa10",
   "metadata": {},
   "source": [
    "---"
   ]
  },
  {
   "cell_type": "markdown",
   "id": "00432635-4fb2-4e80-8940-0421e9d378dc",
   "metadata": {},
   "source": [
    "# BLOCKQUOTES\n",
    "1. BLOCKQUOTES 작성 (Markdown 언어)"
   ]
  },
  {
   "cell_type": "markdown",
   "id": "9cd40303-b663-4300-9957-e280a8bff12a",
   "metadata": {},
   "source": [
    "> 이 글은 인용문입니다."
   ]
  },
  {
   "cell_type": "markdown",
   "id": "9c06697b-6cdc-4396-a70e-d41321b0bac0",
   "metadata": {},
   "source": [
    "> 이 글은 인용문입니다."
   ]
  },
  {
   "cell_type": "markdown",
   "id": "f41a9a4b-54e4-428b-8d1e-bfa0d93f519c",
   "metadata": {},
   "source": [
    "2. BLOCKQUOTES 작성 (HTML 언어)"
   ]
  },
  {
   "cell_type": "markdown",
   "id": "8ef2bb85-46be-4191-83fd-558f2e779d8a",
   "metadata": {},
   "source": [
    "<blockquote> 이 글은 인용문입니다. </blockquote>"
   ]
  },
  {
   "cell_type": "markdown",
   "id": "00741da9-2ce6-4d25-92f3-15a76b2c7640",
   "metadata": {},
   "source": [
    "<blockquote> 이 글은 인용문입니다. </blockquote>"
   ]
  },
  {
   "cell_type": "markdown",
   "id": "75e41601-9ea6-4a94-a058-4acf4d980b39",
   "metadata": {},
   "source": [
    "---"
   ]
  },
  {
   "cell_type": "markdown",
   "id": "1841963c-92e8-4cb5-a069-45fd0ee1cd53",
   "metadata": {},
   "source": [
    "# NESTED BLOCK QUOTING \n",
    "1. NESTED BLOCK QUOTING 작성 (Markdown 언어)"
   ]
  },
  {
   "cell_type": "markdown",
   "id": "dc659941-16fa-46fc-b6b3-94b2f91f378f",
   "metadata": {},
   "source": [
    "> 1수준 인용문\n",
    ">> 2수준 인용문\n",
    ">>> 3수준 인용문"
   ]
  },
  {
   "cell_type": "markdown",
   "id": "40d67245-717e-4f4c-974b-20fd8ef07b35",
   "metadata": {},
   "source": [
    "> 1수준 인용문\n",
    ">> 2수준 인용문\n",
    ">>> 3수준 인용문"
   ]
  },
  {
   "cell_type": "markdown",
   "id": "a568c908-184c-4f19-95e1-417c58ceac5f",
   "metadata": {},
   "source": [
    "2. NESTED BLOCK QUOTING 작성 (HTML 언어)"
   ]
  },
  {
   "cell_type": "markdown",
   "id": "1b3e71e6-2c07-40a6-a5a8-d850c19ec727",
   "metadata": {},
   "source": [
    "<blockquote>\n",
    "    <p>1수준 인용문</p>\n",
    "    <blockquote>\n",
    "        <p>2수준 인용문</p>\n",
    "        <blockquote>\n",
    "            <p>3수준 인용문</p>\n",
    "        </blockquote>    \n",
    "    </blockquote>    \n",
    "</blockquote>"
   ]
  },
  {
   "cell_type": "markdown",
   "id": "f048f3ba-d3dd-4159-bc2a-570e1e1bdbdd",
   "metadata": {},
   "source": [
    "<blockquote>\n",
    "    <p>1수준 인용문</p>\n",
    "    <blockquote>\n",
    "        <p>2수준 인용문</p>\n",
    "        <blockquote>\n",
    "            <p>3수준 인용문</p>\n",
    "        </blockquote>    \n",
    "    </blockquote>    \n",
    "</blockquote>"
   ]
  },
  {
   "cell_type": "markdown",
   "id": "64a64db0-32e0-4b62-98c3-e8f1b25778a7",
   "metadata": {},
   "source": [
    "---"
   ]
  },
  {
   "cell_type": "markdown",
   "id": "29969ae5-391b-4793-be0c-c63601b8091c",
   "metadata": {},
   "source": [
    "# HORIZONTAL LINE (수평선)\n",
    "1. HORIZONTAL LINE 작성 (Markdown 언어)"
   ]
  },
  {
   "cell_type": "markdown",
   "id": "93e0024e-9526-48e9-a4ef-c587ebbe2fd1",
   "metadata": {},
   "source": [
    "---\n",
    "___\n",
    "***"
   ]
  },
  {
   "cell_type": "markdown",
   "id": "67047be3-6c9b-4073-8ac5-4423bd4e432f",
   "metadata": {},
   "source": [
    "---\n",
    "___\n",
    "***"
   ]
  },
  {
   "cell_type": "markdown",
   "id": "91cd5b03-d5e9-4a47-9f2c-3d8f34bd2385",
   "metadata": {},
   "source": [
    "2. HORIZONTAL LINE 작성 (HTML 언어)"
   ]
  },
  {
   "cell_type": "markdown",
   "id": "a967a77a-aa91-4a93-be2b-0e42c5bfe028",
   "metadata": {},
   "source": [
    "<hr>"
   ]
  },
  {
   "cell_type": "markdown",
   "id": "ade23eef-6b5a-40df-bb5c-6c7bb058e9fb",
   "metadata": {},
   "source": [
    "<hr>"
   ]
  },
  {
   "cell_type": "markdown",
   "id": "9e84853c-3652-41a2-bb15-2f2f938f5158",
   "metadata": {},
   "source": [
    "# ORDERED LIST\n",
    "1. ORDERED LIST 작성(Markdown 언어)"
   ]
  },
  {
   "cell_type": "markdown",
   "id": "0adee2b0-5f65-490c-bc04-e9c210bbbcc4",
   "metadata": {},
   "source": [
    "1. 아이템 1\n",
    "2. 아이템 2\n",
    "3. 아이템 3\n",
    "4. 아이템 4\n",
    "5. 아이템 5"
   ]
  },
  {
   "cell_type": "markdown",
   "id": "cb989aa6-83fd-410c-99e9-6fb4dbdee13b",
   "metadata": {},
   "source": [
    "1. 아이템 1\n",
    "2. 아이템 2\n",
    "3. 아이템 3\n",
    "4. 아이템 4\n",
    "5. 아이템 5"
   ]
  },
  {
   "cell_type": "markdown",
   "id": "8a36eac6-c0e9-4b3c-9400-e1e4ebc613de",
   "metadata": {},
   "source": [
    "2. ORDERED LIST 작성 (HTML언어)"
   ]
  },
  {
   "cell_type": "markdown",
   "id": "67738d6b-9209-45e6-906e-db4b28cdcbdb",
   "metadata": {},
   "source": [
    "<ol>\n",
    "    <li>아이템 1</li>\n",
    "    <li>아이템 2</li>\n",
    "    <li>아이템 3</li>\n",
    "    <li>아이템 4</li>\n",
    "    <li>아이템 5</li>\n",
    "</ol>\n"
   ]
  },
  {
   "cell_type": "markdown",
   "id": "7321b450-0f32-4210-97a1-333e5145183b",
   "metadata": {},
   "source": [
    "<ol>\n",
    "    <li>아이템 1</li>\n",
    "    <li>아이템 2</li>\n",
    "    <li>아이템 3</li>\n",
    "    <li>아이템 4</li>\n",
    "    <li>아이템 5</li>\n",
    "</ol>\n"
   ]
  },
  {
   "cell_type": "markdown",
   "id": "ff2ceca7-ddd9-4808-857a-eb633f3df3dd",
   "metadata": {},
   "source": [
    "---"
   ]
  },
  {
   "cell_type": "markdown",
   "id": "f95e120b-ab15-4077-84f4-419606f4e722",
   "metadata": {},
   "source": [
    "# NESTED ORDERED LIST\r",
    "1. NESTED \n",
    "ORDERED LIST 작성(Markdown 언어)"
   ]
  },
  {
   "cell_type": "markdown",
   "id": "6c4dafb1-5127-4acc-b3a4-f1b8fa2413d1",
   "metadata": {},
   "source": [
    "1. 아이템 1\n",
    "   1. 서브아이템 1\n",
    "   2. 서브아이템 2\n",
    "   3. 서브아이템 3\n",
    "2. 아이템 2\n",
    "3. 아이템 3"
   ]
  },
  {
   "cell_type": "markdown",
   "id": "79830c26-632e-43a8-8fb1-fc112f1a6db6",
   "metadata": {},
   "source": [
    "1. 아이템 1\n",
    "   1. 서브아이템 1\n",
    "   2. 서브아이템 2\n",
    "   3. 서브아이템 3\n",
    "2. 아이템 2\n",
    "3. 아이템 3"
   ]
  },
  {
   "cell_type": "markdown",
   "id": "1adb4b28-ea93-46e8-9f2d-90b13502af06",
   "metadata": {},
   "source": [
    "2. NESTED ORDERED LIST 작성(HTML 언어)"
   ]
  },
  {
   "cell_type": "markdown",
   "id": "271c7862-590d-498b-9fbe-ae792623ac00",
   "metadata": {},
   "source": [
    "<ol>\n",
    "    <li>아이템 1</li>\n",
    "    <ol>\n",
    "        <li>서브아이템 1</li>\n",
    "        <li>서브아이템 2</li>\n",
    "        <li>서브아이템 3</li>\n",
    "    </ol>\n",
    "    <li>아이템 2</li>\n",
    "    <li>아이템 3</li>\n",
    "</ol>"
   ]
  },
  {
   "cell_type": "markdown",
   "id": "1af829c9-df8b-4985-8991-1221a1883386",
   "metadata": {},
   "source": [
    "<ol>\n",
    "    <li>아이템 1</li>\n",
    "    <ol>\n",
    "        <li>서브아이템 1</li>\n",
    "        <li>서브아이템 2</li>\n",
    "        <li>서브아이템 3</li>\n",
    "    </ol>\n",
    "    <li>아이템 2</li>\n",
    "    <li>아이템 3</li>\n",
    "</ol>"
   ]
  },
  {
   "cell_type": "markdown",
   "id": "1e594977-e631-42dc-a0de-8bf9883398dc",
   "metadata": {},
   "source": [
    "---"
   ]
  },
  {
   "cell_type": "markdown",
   "id": "0bed4413-7073-453f-a157-844a42530f2d",
   "metadata": {},
   "source": [
    "# UNORDERED LIST\n",
    "1. UNORDERED LIST 작성 (Markdown 언어)"
   ]
  },
  {
   "cell_type": "markdown",
   "id": "ca5f248d-89f3-44c2-b3da-1c2c483b20a8",
   "metadata": {},
   "source": [
    "- 아이템 1\n",
    "- 아이템 2\n",
    "  + 서브아이템 2-1\n",
    "  + 서브아이템 2-2"
   ]
  },
  {
   "cell_type": "markdown",
   "id": "6448f3c9-76a2-444d-96eb-dec96c5affa6",
   "metadata": {},
   "source": [
    "- 아이템 1\n",
    "- 아이템 2\n",
    "  + 서브아이템 2-1\n",
    "  + 서브아이템 2-2"
   ]
  },
  {
   "cell_type": "markdown",
   "id": "bef73556-2a87-436f-8a11-39bbb0b81119",
   "metadata": {},
   "source": [
    "2. UNORDERED LIST 작성 (HTML 언어)"
   ]
  },
  {
   "cell_type": "markdown",
   "id": "86be1cd2-e364-409b-b666-59cb13d8d44f",
   "metadata": {},
   "source": [
    "<ul>\n",
    "    <li>아이템 1</li>\n",
    "    <li>아이템 2</li>\n",
    "    <ul>\n",
    "        <li>서브아이템 2-1</li>\n",
    "        <li>서브아이템 2-2</li>\n",
    "    </ul>\n",
    "</ul>"
   ]
  },
  {
   "cell_type": "markdown",
   "id": "982f4064-4313-4d03-8d19-dd410a300d4f",
   "metadata": {},
   "source": [
    "<ul>\n",
    "    <li>아이템 1</li>\n",
    "    <li>아이템 2</li>\n",
    "    <ul>\n",
    "        <li>서브아이템 2-1</li>\n",
    "        <li>서브아이템 2-2</li>\n",
    "    </ul>\n",
    "</ul>"
   ]
  },
  {
   "cell_type": "markdown",
   "id": "6d4c68d5-5e0d-40ef-965f-0589816752b2",
   "metadata": {},
   "source": [
    "---"
   ]
  },
  {
   "cell_type": "markdown",
   "id": "6942d6ae-882e-47d3-811a-98dbef19552e",
   "metadata": {},
   "source": [
    "# Graphics\n",
    "1. 사진 첨부하기 (Markdown 언어)\n",
    "   + \\!\\[](이미지주소)"
   ]
  },
  {
   "cell_type": "markdown",
   "id": "1225fcbc-8bd0-4a4c-ac2a-3d46c9adb5c6",
   "metadata": {},
   "source": [
    "![](https://i.namu.wiki/i/tqfG3LexclFBAbpbKmOspXO9QzmDW-rjhAN6mR1XR3wV0AVt-cuwj1fCY7XfZNc9op7KOz9onk4oHVrocP1yrWmv_6x9Tv1PKRcgrljH2-vEax148avrMeWGWrO9OfdQtgn9hkxi2b9cwFXRNKskMA.svg)"
   ]
  },
  {
   "cell_type": "markdown",
   "id": "5f15227b-3bd0-44b7-8d2c-47f789ff4c38",
   "metadata": {},
   "source": [
    "![](https://i.namu.wiki/i/tqfG3LexclFBAbpbKmOspXO9QzmDW-rjhAN6mR1XR3wV0AVt-cuwj1fCY7XfZNc9op7KOz9onk4oHVrocP1yrWmv_6x9Tv1PKRcgrljH2-vEax148avrMeWGWrO9OfdQtgn9hkxi2b9cwFXRNKskMA.svg)"
   ]
  },
  {
   "cell_type": "markdown",
   "id": "a10dba9b-ffd8-4e50-8339-7442c1eb3e66",
   "metadata": {},
   "source": [
    "2. 사진 첨부하기(HTML 언어)"
   ]
  },
  {
   "cell_type": "markdown",
   "id": "39925fb6-0af0-4b0f-9c0a-69437b9e6c54",
   "metadata": {},
   "source": [
    "<img src=\"https://i.namu.wiki/i/tqfG3LexclFBAbpbKmOspXO9QzmDW-rjhAN6mR1XR3wV0AVt-cuwj1fCY7XfZNc9op7KOz9onk4oHVrocP1yrWmv_6x9Tv1PKRcgrljH2-vEax148avrMeWGWrO9OfdQtgn9hkxi2b9cwFXRNKskMA.svg\">"
   ]
  },
  {
   "cell_type": "markdown",
   "id": "9fe7ad8f-cfc8-4a26-98fa-24f94aaf0d8c",
   "metadata": {},
   "source": [
    "<img src=\"https://i.namu.wiki/i/tqfG3LexclFBAbpbKmOspXO9QzmDW-rjhAN6mR1XR3wV0AVt-cuwj1fCY7XfZNc9op7KOz9onk4oHVrocP1yrWmv_6x9Tv1PKRcgrljH2-vEax148avrMeWGWrO9OfdQtgn9hkxi2b9cwFXRNKskMA.svg\">"
   ]
  },
  {
   "cell_type": "markdown",
   "id": "527ed174-28dd-4e7d-bb0b-106874a5b19d",
   "metadata": {},
   "source": [
    "---"
   ]
  },
  {
   "cell_type": "markdown",
   "id": "c426903b-3a7b-423b-b4c7-89d3aa2c73ca",
   "metadata": {},
   "source": [
    "# Hyperlink\n",
    "1. Hyperlink 작성하기 (Markdown 언어)"
   ]
  },
  {
   "cell_type": "markdown",
   "id": "01d9afb3-4349-418e-bf21-1796cc86c689",
   "metadata": {},
   "source": [
    "https://www.naver.com/"
   ]
  },
  {
   "cell_type": "markdown",
   "id": "0761bb34-dbed-471c-94dc-70301d999f22",
   "metadata": {},
   "source": [
    "https://www.naver.com/"
   ]
  },
  {
   "cell_type": "markdown",
   "id": "11d4eb93-4e56-4832-9015-0bfd3ddcd118",
   "metadata": {},
   "source": [
    "2. Hyperlink 작성하기(HTML 언어)"
   ]
  },
  {
   "cell_type": "markdown",
   "id": "694ec094-e225-4e07-90ad-e6e4ae967f15",
   "metadata": {},
   "source": [
    "<a href=\"https://www.naver.com/\">https://www.naver.com/</a>"
   ]
  },
  {
   "cell_type": "markdown",
   "id": "86413c7e-630a-4430-831e-d30848fb403f",
   "metadata": {},
   "source": [
    "<a href=\"https://www.naver.com/\">https://www.naver.com/</a>"
   ]
  },
  {
   "cell_type": "markdown",
   "id": "c659ca97-f851-432e-9151-4f3ad500fe34",
   "metadata": {},
   "source": [
    "---"
   ]
  },
  {
   "cell_type": "markdown",
   "id": "1bb3e09c-1046-44a1-a8d0-1bf6eaa522c4",
   "metadata": {},
   "source": [
    "# Hyperlink by name\n",
    "1. Hyperlink by name 작성하기 (Markdown언어)"
   ]
  },
  {
   "cell_type": "markdown",
   "id": "62859189-2882-4466-82bf-f057df3536b0",
   "metadata": {},
   "source": [
    "[click me](https://www.naver.com/)"
   ]
  },
  {
   "cell_type": "markdown",
   "id": "74494921-24e6-4768-8277-5cefff1d7ef4",
   "metadata": {},
   "source": [
    "[click me](https://www.naver.com/)"
   ]
  },
  {
   "cell_type": "markdown",
   "id": "55ae37f9-b5cf-4e44-8639-e81728d4cab0",
   "metadata": {},
   "source": [
    "2. Hyperlink by name 작성하기 (HTML언어)"
   ]
  },
  {
   "cell_type": "markdown",
   "id": "e34f2d1c-ccc7-40e8-8a5d-fb373b53ef78",
   "metadata": {},
   "source": [
    "<a href=\"https://www.naver.com/\">click me</a>"
   ]
  },
  {
   "cell_type": "markdown",
   "id": "46aa26fb-013e-4710-b7da-2681b4564246",
   "metadata": {},
   "source": [
    "<a href=\"https://www.naver.com/\">click me</a>"
   ]
  },
  {
   "cell_type": "markdown",
   "id": "72f8053f-5ebe-446f-8085-6fee88cc4eb5",
   "metadata": {},
   "source": [
    "---"
   ]
  },
  {
   "cell_type": "markdown",
   "id": "05c07622-7ee6-41c3-8db1-becda75bb258",
   "metadata": {},
   "source": [
    "# Anchor Links\n",
    "1. Anchor Links 작성하기 (Markdown 언어)"
   ]
  },
  {
   "cell_type": "markdown",
   "id": "05923aa5-5201-43ef-a569-b4ed5b7b28fc",
   "metadata": {},
   "source": [
    "- [Header](#header)\n",
    "- [Bold Text](#bold_text)"
   ]
  },
  {
   "cell_type": "markdown",
   "id": "8cf8ab7f-8449-44b0-b39b-a42e2eb9ef40",
   "metadata": {},
   "source": [
    "- [Header](#header)\n",
    "- [Bold Text](#bold_text)"
   ]
  },
  {
   "cell_type": "markdown",
   "id": "ed3045ee-6bfc-4e07-b501-10390f8d4d8d",
   "metadata": {},
   "source": [
    "# Tesk LIsts\n",
    "1. Task Lists 작성 (Markdown 언어)"
   ]
  },
  {
   "cell_type": "markdown",
   "id": "268836ce-1a8c-4af2-996b-b5c62786e814",
   "metadata": {},
   "source": [
    "- [x] 오늘 할일\n",
    "- [ ] 내일 할일"
   ]
  },
  {
   "cell_type": "markdown",
   "id": "b09be622-5e5a-4399-8e8f-f2ce01e2b333",
   "metadata": {},
   "source": [
    "- [x] 오늘 할일\n",
    "- [ ] 내일 할일"
   ]
  },
  {
   "cell_type": "markdown",
   "id": "0294a746-bd8d-4b1f-9f5c-7de986b08829",
   "metadata": {},
   "source": [
    "---"
   ]
  },
  {
   "cell_type": "markdown",
   "id": "2617864b-155e-4ad9-ba82-2ec0b04d34b1",
   "metadata": {},
   "source": [
    "# Inline HTML\n",
    "1. Inline HTML 작성"
   ]
  },
  {
   "cell_type": "markdown",
   "id": "943a3628-9cdd-495d-8fdd-436f90022f48",
   "metadata": {},
   "source": [
    "<span style =\"color:red\"> 이 글을 스타일이 적용된 문장입니다. </span> "
   ]
  },
  {
   "cell_type": "markdown",
   "id": "80b76b7d-d4b0-44f2-a488-5c8916d086c0",
   "metadata": {},
   "source": [
    "<span style =\"color:red\"> 이 글을 스타일이 적용된 문장입니다. </span> "
   ]
  },
  {
   "cell_type": "markdown",
   "id": "bfa9019c-b720-4c59-811b-78f876d83d1c",
   "metadata": {},
   "source": [
    "---"
   ]
  },
  {
   "cell_type": "markdown",
   "id": "e9f13a18-6225-4faf-8ddc-16f9240fef6d",
   "metadata": {},
   "source": [
    "# Code section\n",
    "1. Code section 작성"
   ]
  },
  {
   "cell_type": "markdown",
   "id": "c5398151-ee72-4db9-b133-fe3c1a3ec3b5",
   "metadata": {},
   "source": [
    "``` python\n",
    "a = 10\n",
    "print(a)\n",
    "```"
   ]
  },
  {
   "cell_type": "markdown",
   "id": "5292113f-05b1-414d-b0ce-912a5059d23f",
   "metadata": {},
   "source": [
    "``` python\n",
    "a = 10\n",
    "print(a)\n",
    "```"
   ]
  },
  {
   "cell_type": "markdown",
   "id": "601d3f96-20ea-4078-a29f-fd18e2cb8814",
   "metadata": {},
   "source": [
    "---"
   ]
  },
  {
   "cell_type": "markdown",
   "id": "5f05f967-4fb1-4931-a64a-ca513bb6b2c8",
   "metadata": {},
   "source": [
    "# Latex 수식\n",
    "1. Latex 작성"
   ]
  },
  {
   "cell_type": "markdown",
   "id": "7dd1f6bb-7d99-4b62-aa11-4ed334ccbb7d",
   "metadata": {},
   "source": [
    "W의 합을 구하는 수식은 $ x = \\sum_{i=0}^{N-1} W_I $ 입니다"
   ]
  },
  {
   "cell_type": "markdown",
   "id": "bd7d4112-948d-440e-897c-2807ca5d1f43",
   "metadata": {},
   "source": [
    "W의 합을 구하는 수식은 $ x = \\sum_{i=0}^{N-1} W_I $ 입니다"
   ]
  }
 ],
 "metadata": {
  "kernelspec": {
   "display_name": "Python 3 (ipykernel)",
   "language": "python",
   "name": "python3"
  },
  "language_info": {
   "codemirror_mode": {
    "name": "ipython",
    "version": 3
   },
   "file_extension": ".py",
   "mimetype": "text/x-python",
   "name": "python",
   "nbconvert_exporter": "python",
   "pygments_lexer": "ipython3",
   "version": "3.11.7"
  }
 },
 "nbformat": 4,
 "nbformat_minor": 5
}
